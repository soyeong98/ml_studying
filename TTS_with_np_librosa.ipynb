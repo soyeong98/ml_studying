{
 "cells": [
  {
   "cell_type": "code",
   "execution_count": 1,
   "metadata": {},
   "outputs": [],
   "source": [
    "from gtts import gTTS\n",
    "import random, os\n",
    "import numpy as np\n",
    "\n",
    "\n",
    "# tts == test to speach"
   ]
  },
  {
   "cell_type": "code",
   "execution_count": 2,
   "metadata": {},
   "outputs": [],
   "source": [
    "os.makedirs('samples', exist_ok=True)\n",
    "os.makedirs('result', exist_ok=True)"
   ]
  },
  {
   "cell_type": "code",
   "execution_count": 3,
   "metadata": {},
   "outputs": [
    {
     "name": "stdout",
     "output_type": "stream",
     "text": [
      "안녕하세요 너굴 상회입니다\n"
     ]
    }
   ],
   "source": [
    "string = '안녕하세요 너굴 상회입니다'\n",
    "lang = 'ko'\n",
    "random_factor = 0.45\n",
    "#normal_frame_rate = 44100\n",
    "\n",
    "print(string)"
   ]
  },
  {
   "cell_type": "code",
   "execution_count": null,
   "metadata": {},
   "outputs": [],
   "source": [
    "import librosa\n",
    "import iPython\n",
    "sr_base = 22050\n",
    "\n",
    "# 데이터 형을 array형태로 진행\n",
    "\n",
    "result_sound = None\n",
    "for i, letter in enumerate(string):     # enumerate : 대상을 하나하나 관찰함 / 스트링 : 여,러,분 / gtts에서는 띄어쓰기 에러\n",
    "    if letter == ' ': # fill empty sound\n",
    "        new_sound = np.zeros(10000)\n",
    "    else: # fill tts sound\n",
    "        # create tts if sample sound not exist\n",
    "        if not os.path.isfile('samples/%s.mp3' % letter):    # 존재하지 않을 때.\n",
    "            tts = gTTS(letter, lang=lang)\n",
    "            tts.save('samples/%s.mp3' % letter)\n",
    "\n",
    "        # load sample sound\n",
    "        letter_sound = AudioSegment.from_mp3('samples/%s.mp3' % letter)\n",
    "        x, sr = librosa.load(letter_file_path)        # librosa로 데이터를 s, sr로 불러옴(array형태)\n",
    "\n",
    "        \n",
    "        octaves = 1 + random.random() * random_factor\n",
    "        new_sound = librosa.effects.pitch_shift(x, sr, octaves)    \n",
    "        \n",
    "    resample_sr = 22050 * 0.7\n",
    "    new_sound = librosa.resample(new_sound, sr, resample_sr)\n",
    "    print(type(new_sound), type(resample_sr))\n",
    "    print(new_sound.shape, resample_sr)\n",
    "    result_sound = new_sound if result_sound is None else np.append(result_sound.new_sound)\n",
    "        \n",
    "        \n",
    "    \n",
    "result_sound\n"
   ]
  },
  {
   "cell_type": "code",
   "execution_count": null,
   "metadata": {},
   "outputs": [],
   "source": []
  }
 ],
 "metadata": {
  "kernelspec": {
   "display_name": "kernel-py2",
   "language": "python",
   "name": "py2"
  },
  "language_info": {
   "codemirror_mode": {
    "name": "ipython",
    "version": 3
   },
   "file_extension": ".py",
   "mimetype": "text/x-python",
   "name": "python",
   "nbconvert_exporter": "python",
   "pygments_lexer": "ipython3",
   "version": "3.8.3"
  }
 },
 "nbformat": 4,
 "nbformat_minor": 4
}
