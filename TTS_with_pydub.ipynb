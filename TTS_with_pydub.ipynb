{
 "cells": [
  {
   "cell_type": "code",
   "execution_count": 5,
   "metadata": {},
   "outputs": [
    {
     "name": "stderr",
     "output_type": "stream",
     "text": [
      "C:\\User\\Downloads\\lib\\site-packages\\pydub\\utils.py:170: RuntimeWarning: Couldn't find ffmpeg or avconv - defaulting to ffmpeg, but may not work\n",
      "  warn(\"Couldn't find ffmpeg or avconv - defaulting to ffmpeg, but may not work\", RuntimeWarning)\n"
     ]
    }
   ],
   "source": [
    "from gtts import gTTS\n",
    "from pydub import AudioSegment\n",
    "import random, os"
   ]
  },
  {
   "cell_type": "markdown",
   "metadata": {},
   "source": [
    "# Create Directory for Cache and Result"
   ]
  },
  {
   "cell_type": "code",
   "execution_count": 2,
   "metadata": {},
   "outputs": [
    {
     "ename": "NameError",
     "evalue": "name 'os' is not defined",
     "output_type": "error",
     "traceback": [
      "\u001b[1;31m---------------------------------------------------------------------------\u001b[0m",
      "\u001b[1;31mNameError\u001b[0m                                 Traceback (most recent call last)",
      "\u001b[1;32m<ipython-input-2-fc9a252a63c7>\u001b[0m in \u001b[0;36m<module>\u001b[1;34m()\u001b[0m\n\u001b[1;32m----> 1\u001b[1;33m \u001b[0mos\u001b[0m\u001b[1;33m.\u001b[0m\u001b[0mmakedirs\u001b[0m\u001b[1;33m(\u001b[0m\u001b[1;34m'samples'\u001b[0m\u001b[1;33m,\u001b[0m \u001b[0mexist_ok\u001b[0m\u001b[1;33m=\u001b[0m\u001b[1;32mTrue\u001b[0m\u001b[1;33m)\u001b[0m\u001b[1;33m\u001b[0m\u001b[0m\n\u001b[0m\u001b[0;32m      2\u001b[0m \u001b[0mos\u001b[0m\u001b[1;33m.\u001b[0m\u001b[0mmakedirs\u001b[0m\u001b[1;33m(\u001b[0m\u001b[1;34m'result'\u001b[0m\u001b[1;33m,\u001b[0m \u001b[0mexist_ok\u001b[0m\u001b[1;33m=\u001b[0m\u001b[1;32mTrue\u001b[0m\u001b[1;33m)\u001b[0m\u001b[1;33m\u001b[0m\u001b[0m\n",
      "\u001b[1;31mNameError\u001b[0m: name 'os' is not defined"
     ]
    }
   ],
   "source": [
    "os.makedirs('samples', exist_ok=True)\n",
    "os.makedirs('result', exist_ok=True)"
   ]
  },
  {
   "cell_type": "markdown",
   "metadata": {},
   "source": [
    "# Define Input"
   ]
  },
  {
   "cell_type": "code",
   "execution_count": 17,
   "metadata": {},
   "outputs": [
    {
     "name": "stdout",
     "output_type": "stream",
     "text": [
      "안녕하세요 너굴 상회입니다\n"
     ]
    }
   ],
   "source": [
    "string = '안녕하세요 너굴 상회입니다'\n",
    "lang = 'ko'\n",
    "random_factor = 0.45\n",
    "normal_frame_rate = 44100\n",
    "\n",
    "print(string)"
   ]
  },
  {
   "cell_type": "code",
   "execution_count": 9,
   "metadata": {},
   "outputs": [],
   "source": [
    "# 인식안될 때, https://ffmpeg.org/download.html 파일 공유해야함 ffmpeg-20200831-4a11a6f-win64-static.zip\n",
    "AudioSegment.converter = \"C:/Users/Administrator/lect_py/pyex/animalese-voice-generator-master/ffmpeg-20200831-4a11a6f-win64-static/bin/ffmpeg.exe\" "
   ]
  },
  {
   "cell_type": "markdown",
   "metadata": {},
   "source": [
    "# Process Audio"
   ]
  },
  {
   "cell_type": "code",
   "execution_count": 20,
   "metadata": {},
   "outputs": [
    {
     "name": "stdout",
     "output_type": "stream",
     "text": [
      "안 - octaves: 1.86, fr: 57519\n",
      "녕 - octaves: 1.91, fr: 58966\n",
      "하 - octaves: 1.94, fr: 59596\n",
      "세 - octaves: 1.74, fr: 54329\n",
      "요 - octaves: 2.02, fr: 61992\n",
      "너 - octaves: 1.78, fr: 55428\n",
      "굴 - octaves: 1.72, fr: 53848\n",
      "상 - octaves: 2.00, fr: 61379\n",
      "회 - octaves: 1.90, fr: 58723\n",
      "입 - octaves: 2.01, fr: 61591\n",
      "니 - octaves: 1.86, fr: 57638\n",
      "다 - octaves: 1.73, fr: 54051\n"
     ]
    },
    {
     "data": {
      "text/html": [
       "\n",
       "                    <audio controls>\n",
       "                        <source src=\"data:audio/mpeg;base64,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\" type=\"audio/mpeg\"/>\n",
       "                        Your browser does not support the audio element.\n",
       "                    </audio>\n",
       "                  "
      ],
      "text/plain": [
       "<pydub.audio_segment.AudioSegment at 0x1a18d12ee50>"
      ]
     },
     "execution_count": 20,
     "metadata": {},
     "output_type": "execute_result"
    }
   ],
   "source": [
    "# -*- coding: UTF-8 -*-\n",
    "\n",
    "result_sound = None\n",
    "\n",
    "for i, letter in enumerate(string):\n",
    "    if letter == ' ': # fill empty sound\n",
    "        new_sound = letter_sound._spawn(b'\\x00' * (normal_frame_rate // 3), overrides={'frame_rate': normal_frame_rate})\n",
    "    else: # fill tts sound\n",
    "        # create tts if sample sound not exist\n",
    "        if not os.path.isfile('samples/%s.mp3' % letter):\n",
    "            tts = gTTS(letter, lang=lang)\n",
    "            tts.save('samples/%s.mp3' % letter)\n",
    "\n",
    "        # load sample sound\n",
    "        letter_sound = AudioSegment.from_mp3('samples/%s.mp3' % letter)\n",
    "\n",
    "        # slice out head and tail part of audio\n",
    "        raw = letter_sound.raw_data[5000:-5000]\n",
    "\n",
    "        # adjust pitch around +2\n",
    "        octaves = 1.7 + random.random() * random_factor\n",
    "        frame_rate = int(letter_sound.frame_rate * (1.6 ** octaves))\n",
    "        print('%s - octaves: %.2f, fr: %.d' % (letter, octaves, frame_rate))\n",
    "\n",
    "        new_sound = letter_sound._spawn(raw, overrides={'frame_rate': frame_rate})\n",
    "\n",
    "    # set frame rate to normal(44100) and combine letter sounds\n",
    "    new_sound = new_sound.set_frame_rate(normal_frame_rate)\n",
    "    result_sound = new_sound if result_sound is None else result_sound + new_sound\n",
    "    \n",
    "result_sound"
   ]
  },
  {
   "cell_type": "code",
   "execution_count": 21,
   "metadata": {},
   "outputs": [
    {
     "data": {
      "text/plain": [
       "<_io.BufferedRandom name='result/안녕하세요 너굴 상회입니다.mp3'>"
      ]
     },
     "execution_count": 21,
     "metadata": {},
     "output_type": "execute_result"
    }
   ],
   "source": [
    "result_sound.export('result/%s.mp3' % string, format='mp3')"
   ]
  },
  {
   "cell_type": "code",
   "execution_count": null,
   "metadata": {},
   "outputs": [],
   "source": []
  }
 ],
 "metadata": {
  "kernelspec": {
   "display_name": "Python 3",
   "language": "python",
   "name": "python3"
  },
  "language_info": {
   "codemirror_mode": {
    "name": "ipython",
    "version": 3
   },
   "file_extension": ".py",
   "mimetype": "text/x-python",
   "name": "python",
   "nbconvert_exporter": "python",
   "pygments_lexer": "ipython3",
   "version": "3.6.4"
  }
 },
 "nbformat": 4,
 "nbformat_minor": 4
}
